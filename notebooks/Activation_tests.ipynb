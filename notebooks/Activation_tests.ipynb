{
 "cells": [
  {
   "cell_type": "code",
   "execution_count": 1,
   "metadata": {},
   "outputs": [
    {
     "name": "stdout",
     "output_type": "stream",
     "text": [
      "Outputs and gradients calculated correctly for ReluLayer.\n",
      "outputs [[ 0.1  0.   0.3]\n",
      " [ 0.   0.5  0. ]]\n",
      "grads with respect to inputs [[  5.   0. -10.]\n",
      " [ -0.   0.   0.]]\n"
     ]
    }
   ],
   "source": [
    "import numpy as np\n",
    "from mlp.layers import ReluLayer\n",
    "test_inputs = np.array([[0.1, -0.2, 0.3], [-0.4, 0.5, -0.6]])\n",
    "test_grads_wrt_outputs = np.array([[5., 10., -10.], [-5., 0., 10.]])\n",
    "test_outputs = np.array(\n",
    "    [[0.1, 0., 0.3], [0., 0.5, 0.]])\n",
    "test_grads_wrt_inputs = np.array(\n",
    "    [[5., 0., -10.], [-0., 0., 0.]])\n",
    "activation_layer = ReluLayer()\n",
    "outputs = activation_layer.fprop(test_inputs)\n",
    "all_correct = True\n",
    "if not outputs.shape == test_outputs.shape:\n",
    "    print('ReluLayer.fprop returned array with wrong shape.')\n",
    "    all_correct = False\n",
    "elif not np.allclose(test_outputs, outputs):\n",
    "    print('ReluLayer.fprop calculated incorrect outputs.')\n",
    "    all_correct = False\n",
    "grads_wrt_inputs = activation_layer.bprop(\n",
    "    test_inputs, outputs, test_grads_wrt_outputs)\n",
    "if not grads_wrt_inputs.shape == test_grads_wrt_inputs.shape:\n",
    "    print('ReluLayer.bprop returned array with wrong shape.')\n",
    "    all_correct = False\n",
    "elif not np.allclose(grads_wrt_inputs, test_grads_wrt_inputs):\n",
    "    print('ReluLayer.bprop calculated incorrect gradients with respect to inputs.')\n",
    "    all_correct = False\n",
    "if all_correct:\n",
    "    print('Outputs and gradients calculated correctly for ReluLayer.')\n",
    "print(\"outputs\", outputs)\n",
    "print(\"grads with respect to inputs\", grads_wrt_inputs)"
   ]
  },
  {
   "cell_type": "code",
   "execution_count": 2,
   "metadata": {},
   "outputs": [
    {
     "name": "stdout",
     "output_type": "stream",
     "text": [
      "Outputs and gradients calculated correctly for LeakyReluLayer.\n",
      "outputs [[ 0.1   -0.002  0.3  ]\n",
      " [-0.004  0.5   -0.006]]\n",
      "grads with respect to inputs [[  5.     0.1  -10.  ]\n",
      " [ -0.05   0.     0.1 ]]\n"
     ]
    }
   ],
   "source": [
    "from mlp.layers import LeakyReluLayer\n",
    "test_inputs = np.array([[0.1, -0.2, 0.3], [-0.4, 0.5, -0.6]])\n",
    "test_grads_wrt_outputs = np.array([[5., 10., -10.], [-5., 0., 10.]])\n",
    "test_outputs = np.array(\n",
    "    [[0.1, -0.002, 0.3],\n",
    " [-0.004, 0.5, -0.006]])\n",
    "test_grads_wrt_inputs = np.array(\n",
    "    [[5., 0.1, -10.], [-0.05, 0., 0.1]])\n",
    "activation_layer = LeakyReluLayer()\n",
    "outputs = activation_layer.fprop(test_inputs)\n",
    "all_correct = True\n",
    "if not outputs.shape == test_outputs.shape:\n",
    "    print('LeakyReluLayer.fprop returned array with wrong shape.')\n",
    "    all_correct = False\n",
    "elif not np.allclose(test_outputs, outputs):\n",
    "    print('LeakyReluLayer.fprop calculated incorrect outputs.')\n",
    "    all_correct = False\n",
    "grads_wrt_inputs = activation_layer.bprop(\n",
    "    test_inputs, outputs, test_grads_wrt_outputs)\n",
    "if not grads_wrt_inputs.shape == test_grads_wrt_inputs.shape:\n",
    "    print('LeakyReluLayer.bprop returned array with wrong shape.')\n",
    "    all_correct = False\n",
    "elif not np.allclose(grads_wrt_inputs, test_grads_wrt_inputs):\n",
    "    print('LeakyReluLayer.bprop calculated incorrect gradients with respect to inputs.')\n",
    "    all_correct = False\n",
    "if all_correct:\n",
    "    print('Outputs and gradients calculated correctly for LeakyReluLayer.')\n",
    "print(\"outputs\", outputs)\n",
    "print(\"grads with respect to inputs\", grads_wrt_inputs)"
   ]
  },
  {
   "cell_type": "code",
   "execution_count": 3,
   "metadata": {},
   "outputs": [
    {
     "name": "stdout",
     "output_type": "stream",
     "text": [
      "Outputs and gradients calculated correctly for ELULayer.\n",
      "outputs [[ 0.1        -0.18126925  0.3       ]\n",
      " [-0.32967995  0.5        -0.45118836]]\n",
      "grads with respect to inputs [[  5.           8.18730753 -10.        ]\n",
      " [ -3.35160023   0.           5.48811636]]\n"
     ]
    }
   ],
   "source": [
    "from mlp.layers import ELULayer\n",
    "test_inputs = np.array([[0.1, -0.2, 0.3], [-0.4, 0.5, -0.6]])\n",
    "test_grads_wrt_outputs = np.array([[5., 10., -10.], [-5., 0., 10.]])\n",
    "test_outputs = np.array(\n",
    "    [[0.1, -0.18126925, 0.3],\n",
    " [-0.32967995, 0.5, -0.45118836]])\n",
    "test_grads_wrt_inputs = np.array(\n",
    "    [[5., 8.18730753, -10.], [-3.35160023, 0., 5.48811636]])\n",
    "activation_layer = ELULayer()\n",
    "outputs = activation_layer.fprop(test_inputs)\n",
    "all_correct = True\n",
    "if not outputs.shape == test_outputs.shape:\n",
    "    print('ELULayer.fprop returned array with wrong shape.')\n",
    "    all_correct = False\n",
    "elif not np.allclose(np.round(test_outputs, decimals=2), np.round(outputs, decimals=2)):\n",
    "    print('ELULayer.fprop calculated incorrect outputs.')\n",
    "    all_correct = False\n",
    "grads_wrt_inputs = activation_layer.bprop(\n",
    "    test_inputs, outputs, test_grads_wrt_outputs)\n",
    "if not grads_wrt_inputs.shape == test_grads_wrt_inputs.shape:\n",
    "    print('ELULayer.bprop returned array with wrong shape.')\n",
    "    all_correct = False\n",
    "elif not np.allclose(np.round(grads_wrt_inputs, decimals=2), np.round(test_grads_wrt_inputs, decimals=2)):\n",
    "    print('ELULayer.bprop calculated incorrect gradients with respect to inputs.')\n",
    "    all_correct = False\n",
    "if all_correct:\n",
    "    print('Outputs and gradients calculated correctly for ELULayer.')\n",
    "print(\"outputs\", outputs)\n",
    "print(\"grads with respect to inputs\", grads_wrt_inputs)"
   ]
  },
  {
   "cell_type": "code",
   "execution_count": 4,
   "metadata": {},
   "outputs": [
    {
     "name": "stdout",
     "output_type": "stream",
     "text": [
      "Outputs and gradients calculated correctly for SELULayer.\n",
      "outputs [[ 0.10507    -0.31869604  0.31521   ]\n",
      " [-0.5796223   0.52535    -0.79325065]]\n",
      "grads with respect to inputs [[  5.2535      14.39440265 -10.507     ]\n",
      " [ -5.89257006   0.           9.64885665]]\n"
     ]
    }
   ],
   "source": [
    "from mlp.layers import SELULayer\n",
    "test_inputs = np.array([[0.1, -0.2, 0.3], [-0.4, 0.5, -0.6]])\n",
    "test_grads_wrt_outputs = np.array([[5., 10., -10.], [-5., 0., 10.]])\n",
    "test_outputs = np.array(\n",
    "    [[0.10507, -0.31869604, 0.31521],\n",
    " [-0.5796223, 0.52535, -0.79325065]])\n",
    "test_grads_wrt_inputs = np.array(\n",
    "    [[  5.2535, 14.3941, -10.5070],\n",
    " [-5.8924, 0., 9.6487]])\n",
    "activation_layer = SELULayer()\n",
    "outputs = activation_layer.fprop(test_inputs)\n",
    "all_correct = True\n",
    "if not outputs.shape == test_outputs.shape:\n",
    "    print('SELULayer.fprop returned array with wrong shape.')\n",
    "    all_correct = False\n",
    "elif not np.allclose(np.round(test_outputs, decimals=2), np.round(outputs, decimals=2)):\n",
    "    print('SELULayer.fprop calculated incorrect outputs.')\n",
    "    all_correct = False\n",
    "grads_wrt_inputs = activation_layer.bprop(\n",
    "    test_inputs, outputs, test_grads_wrt_outputs)\n",
    "if not grads_wrt_inputs.shape == test_grads_wrt_inputs.shape:\n",
    "    print('SELULayer.bprop returned array with wrong shape.')\n",
    "    all_correct = False\n",
    "elif not np.allclose(np.round(grads_wrt_inputs, decimals=2), np.round(test_grads_wrt_inputs, decimals=2)):\n",
    "    print('SELULayer.bprop calculated incorrect gradients with respect to inputs.')\n",
    "    all_correct = False\n",
    "if all_correct:\n",
    "    print('Outputs and gradients calculated correctly for SELULayer.')\n",
    "print(\"outputs\", outputs)\n",
    "print(\"grads with respect to inputs\", grads_wrt_inputs)"
   ]
  },
  {
   "cell_type": "code",
   "execution_count": null,
   "metadata": {
    "collapsed": true
   },
   "outputs": [],
   "source": []
  }
 ],
 "metadata": {
  "kernelspec": {
   "display_name": "Python 3",
   "language": "python",
   "name": "python3"
  },
  "language_info": {
   "codemirror_mode": {
    "name": "ipython",
    "version": 3
   },
   "file_extension": ".py",
   "mimetype": "text/x-python",
   "name": "python",
   "nbconvert_exporter": "python",
   "pygments_lexer": "ipython3",
   "version": "3.6.2"
  }
 },
 "nbformat": 4,
 "nbformat_minor": 1
}
